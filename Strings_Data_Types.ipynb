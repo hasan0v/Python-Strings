{
  "cells": [
    {
      "cell_type": "markdown",
      "id": "162a0348",
      "metadata": {
        "id": "162a0348"
      },
      "source": [
        "\n",
        "### Python Strings\n",
        "\n",
        "#### İzah:\n",
        "**Strings-ə Giriş:**  \n",
        "Python-da strings bir və ya iki dırnaq işarəsi və ya üç dırnaq işarəsi ilə əhatə olunmuş simvollar ardıcıllığıdır.\n",
        "    "
      ]
    },
    {
      "cell_type": "code",
      "execution_count": 25,
      "id": "aba5caf6",
      "metadata": {
        "id": "aba5caf6"
      },
      "outputs": [],
      "source": [
        "# Strings-ə giriş\n",
        "single = 'Hello'\n",
        "double = \"Shes a woman \\nand he is a man\"\n",
        "triple = '''Python dlasjdn  klasndn;asl dsaj\n",
        "\n",
        "\n",
        " dksajdl;sa Strings'''\n"
      ]
    },
    {
      "cell_type": "code",
      "source": [
        "single"
      ],
      "metadata": {
        "colab": {
          "base_uri": "https://localhost:8080/",
          "height": 36
        },
        "id": "9mrbPtvvt9KC",
        "outputId": "f6779f47-575b-4224-b935-b7850a8f920a"
      },
      "id": "9mrbPtvvt9KC",
      "execution_count": 8,
      "outputs": [
        {
          "output_type": "execute_result",
          "data": {
            "text/plain": [
              "'Hello'"
            ],
            "application/vnd.google.colaboratory.intrinsic+json": {
              "type": "string"
            }
          },
          "metadata": {},
          "execution_count": 8
        }
      ]
    },
    {
      "cell_type": "code",
      "source": [
        "double"
      ],
      "metadata": {
        "colab": {
          "base_uri": "https://localhost:8080/",
          "height": 36
        },
        "id": "Z_H2jNCbuEv5",
        "outputId": "c2071ee0-2c88-418b-aab0-a70e2960ac9c"
      },
      "id": "Z_H2jNCbuEv5",
      "execution_count": 21,
      "outputs": [
        {
          "output_type": "execute_result",
          "data": {
            "text/plain": [
              "'Shes a woman \\nand he is a man'"
            ],
            "application/vnd.google.colaboratory.intrinsic+json": {
              "type": "string"
            }
          },
          "metadata": {},
          "execution_count": 21
        }
      ]
    },
    {
      "cell_type": "code",
      "source": [
        "print(triple)"
      ],
      "metadata": {
        "colab": {
          "base_uri": "https://localhost:8080/"
        },
        "id": "09jv18OvuGWo",
        "outputId": "972d1328-2f55-4a1c-98ed-e5468d364faf"
      },
      "id": "09jv18OvuGWo",
      "execution_count": 26,
      "outputs": [
        {
          "output_type": "stream",
          "name": "stdout",
          "text": [
            "Python dlasjdn  klasndn;asl dsaj\n",
            "\n",
            "\n",
            " dksajdl;sa Strings\n"
          ]
        }
      ]
    },
    {
      "cell_type": "markdown",
      "id": "5e4b83fd",
      "metadata": {
        "id": "5e4b83fd"
      },
      "source": [
        "\n",
        "**String Əməliyyatları:**  \n",
        "- **Birləşdirmə (Concatenation):** Strings `+` operatoru ilə birləşdirə bilərsiniz.  \n",
        "- **Təkrar (Repetition):** `*` operatoru ilə strings təkrarlamaq mümkündür.  \n",
        "- **Dilimləmə və İndeksləmə:** String-dən hissələr almaq üçün indekslərdən istifadə edilir.\n",
        "    "
      ]
    },
    {
      "cell_type": "code",
      "execution_count": 42,
      "id": "3c533d84",
      "metadata": {
        "colab": {
          "base_uri": "https://localhost:8080/"
        },
        "id": "3c533d84",
        "outputId": "507f936a-b41a-47e5-8159-010ff6764ccf"
      },
      "outputs": [
        {
          "output_type": "stream",
          "name": "stdout",
          "text": [
            "Hello World\n",
            "Hi! Hi! Hi! \n",
            "nohtyP\n"
          ]
        }
      ],
      "source": [
        "# Sadə String əməliyyatları\n",
        "greeting = \"Hello\" + \" World\"\n",
        "print(greeting)\n",
        "\n",
        "echo = \"Hi! \" * 3\n",
        "print(echo)\n",
        "\n",
        "word = \"Python\"\n",
        "# print(word[5])  # 'P'\n",
        "print(word[::-1])  # 'yth'"
      ]
    },
    {
      "cell_type": "markdown",
      "id": "ef2699c2",
      "metadata": {
        "id": "ef2699c2"
      },
      "source": [
        "\n",
        "**String Metodları:**  \n",
        "- Boşluqları təmizləmək üçün `strip()` metodu.  \n",
        "- Böyük-kiçik hərf dəyişiklikləri üçün `upper()`, `lower()`.  \n",
        "- Strings-də dəyişikliklər üçün `replace()` metodu.\n",
        "    "
      ]
    },
    {
      "cell_type": "code",
      "execution_count": 44,
      "id": "f0782d94",
      "metadata": {
        "colab": {
          "base_uri": "https://localhost:8080/"
        },
        "id": "f0782d94",
        "outputId": "8647421f-23b1-4b1f-f351-9c7d1c288b31"
      },
      "outputs": [
        {
          "output_type": "stream",
          "name": "stdout",
          "text": [
            "This is Python\n",
            " THIS IS PYTHON \n",
            " this is python \n",
            "ThisisPython\n"
          ]
        }
      ],
      "source": [
        "# String metodları\n",
        "sentence = \" This is Python \"\n",
        "print(sentence.strip())\n",
        "print(sentence.upper())\n",
        "print(sentence.lower())\n",
        "print(sentence.replace(\" Neft \", \"\"))\n",
        ""
      ]
    },
    {
      "cell_type": "markdown",
      "id": "788bd01d",
      "metadata": {
        "id": "788bd01d"
      },
      "source": [
        "\n",
        "**Escape Simvolları və Raw Strings:**  \n",
        "Escape simvolları xüsusi işarələrə (məsələn, `\\n`, `\\t`) çevrilmək üçün istifadə olunur. Raw strings `r\"\"` ilə yaradılır.\n",
        "    "
      ]
    },
    {
      "cell_type": "code",
      "execution_count": 53,
      "id": "092b304c",
      "metadata": {
        "colab": {
          "base_uri": "https://localhost:8080/"
        },
        "id": "092b304c",
        "outputId": "3c962e82-17d3-4790-b1be-fe571ef4e3ec"
      },
      "outputs": [
        {
          "output_type": "stream",
          "name": "stdout",
          "text": [
            "C:\\Users\\Name\n"
          ]
        }
      ],
      "source": [
        "# Escape simvolları və raw strings\n",
        "print(\"First line\\nSecond line\")\n",
        "path =r\"C:\\Users\\Name\"\n",
        "print(path)"
      ]
    },
    {
      "cell_type": "markdown",
      "id": "106ec691",
      "metadata": {
        "id": "106ec691"
      },
      "source": [
        "\n",
        "**String Formatlaşdırılması:**  \n",
        "- f-strings: `{}` daxilində dəyərlər əlavə etməyə imkan verir.  \n",
        "- `.format()`: Eyni nəticəni əldə etmək üçün başqa bir üsuldur.\n",
        "    "
      ]
    },
    {
      "cell_type": "code",
      "execution_count": 60,
      "id": "726b01a9",
      "metadata": {
        "colab": {
          "base_uri": "https://localhost:8080/"
        },
        "id": "726b01a9",
        "outputId": "9a1653d9-f982-4481-fa4c-df6885b18abb"
      },
      "outputs": [
        {
          "output_type": "stream",
          "name": "stdout",
          "text": [
            "Hello,name is Lala my surname is Jafarova i am 25 years old\n",
            "Hello,name is Lala my surname is Jafarova i am 25 years old\n"
          ]
        }
      ],
      "source": [
        "# String formatlaşdırılması\n",
        "name='Lala'\n",
        "surname='Jafarova'\n",
        "age=25\n",
        "print(f\"Hello,name is {name} my surname is {surname} i am {age} years old\")\n",
        "\n",
        "print(\"Hello,name is {} my surname is {} i am {} years old\".format(name, surname, age))"
      ]
    },
    {
      "cell_type": "markdown",
      "id": "f509a4db",
      "metadata": {
        "id": "f509a4db"
      },
      "source": [
        "\n",
        "### Lists və List Comprehension\n",
        "\n",
        "#### İzah:\n",
        "**Lists-ə Giriş:**  \n",
        "Lists müxtəlif tipli elementləri ehtiva edə bilən dəyişdirilə bilən ardıcıllıqlardır.\n",
        "    "
      ]
    },
    {
      "cell_type": "code",
      "execution_count": null,
      "id": "18e9f1a7",
      "metadata": {
        "id": "18e9f1a7"
      },
      "outputs": [],
      "source": [
        "# Lists-ə giriş\n",
        "fruits = [\"apple\", \"banana\", \"cherry\"]\n",
        "print(fruits[0])  # Output: apple\n",
        ""
      ]
    },
    {
      "cell_type": "markdown",
      "id": "8a8b722c",
      "metadata": {
        "id": "8a8b722c"
      },
      "source": [
        "\n",
        "**List Əməliyyatları:**  \n",
        "- **Element əlavə etmək:** `append()` və ya `insert()` metodu ilə.  \n",
        "- **Element çıxarmaq:** `remove()` və ya `pop()` metodu ilə.\n",
        "    "
      ]
    },
    {
      "cell_type": "code",
      "execution_count": null,
      "id": "4c8c3676",
      "metadata": {
        "id": "4c8c3676"
      },
      "outputs": [],
      "source": [
        "# List əməliyyatları\n",
        "fruits.append(\"orange\")\n",
        "print(fruits)\n",
        "\n",
        "fruits.remove(\"banana\")\n",
        "print(fruits)\n",
        ""
      ]
    },
    {
      "cell_type": "markdown",
      "id": "9cf01631",
      "metadata": {
        "id": "9cf01631"
      },
      "source": [
        "\n",
        "**List Metodları:**  \n",
        "`sort()` metodu list-i sıralamaq üçün istifadə olunur.\n",
        "    "
      ]
    },
    {
      "cell_type": "code",
      "execution_count": null,
      "id": "42a74bbe",
      "metadata": {
        "id": "42a74bbe"
      },
      "outputs": [],
      "source": [
        "\n",
        "# List metodları\n",
        "nums = [3, 1, 4]\n",
        "nums.sort()\n",
        "print(nums)\n",
        ""
      ]
    },
    {
      "cell_type": "markdown",
      "id": "417d1e83",
      "metadata": {
        "id": "417d1e83"
      },
      "source": [
        "\n",
        "**List Comprehension:**  \n",
        "- Sadə Sintaksis: List-i bir ifadə ilə yaratmaq.  \n",
        "- Şərtli Comprehension: Şərtlərə əsasən list yaratmaq.\n",
        "    "
      ]
    },
    {
      "cell_type": "code",
      "execution_count": null,
      "id": "1e3b45a8",
      "metadata": {
        "id": "1e3b45a8"
      },
      "outputs": [],
      "source": [
        "# List comprehension\n",
        "squares = [x**2 for x in range(5)]\n",
        "print(squares)\n",
        "\n",
        "evens = [x for x in range(10) if x % 2 == 0]\n",
        "print(evens)\n",
        ""
      ]
    },
    {
      "cell_type": "markdown",
      "id": "747c1b42",
      "metadata": {
        "id": "747c1b42"
      },
      "source": [
        "\n",
        "### Tuples və Sets\n",
        "\n",
        "#### İzah:\n",
        "**Tuples:**  \n",
        "Tuples dəyişdirilə bilməz və sıralanmış ardıcıllıqlardır.\n",
        "    "
      ]
    },
    {
      "cell_type": "code",
      "execution_count": null,
      "id": "92d916b5",
      "metadata": {
        "id": "92d916b5"
      },
      "outputs": [],
      "source": [
        "# Tuples\n",
        "coordinates = (1, 2)\n",
        "print(coordinates[0])  # Output: 1\n",
        ""
      ]
    },
    {
      "cell_type": "markdown",
      "id": "9a7b40be",
      "metadata": {
        "id": "9a7b40be"
      },
      "source": [
        "\n",
        "**Tuple Açılma (Unpacking):**  \n",
        "Tuples elementlərini ayrı-ayrı dəyişənlərə təyin etmək üçün istifadə olunur.\n",
        "    "
      ]
    },
    {
      "cell_type": "code",
      "execution_count": null,
      "id": "a8a0d692",
      "metadata": {
        "id": "a8a0d692"
      },
      "outputs": [],
      "source": [
        "# Tuple unpacking\n",
        "x, y = coordinates\n",
        "print(x, y)  # Output: 1 2\n",
        ""
      ]
    },
    {
      "cell_type": "markdown",
      "id": "69e98bef",
      "metadata": {
        "id": "69e98bef"
      },
      "source": [
        "\n",
        "**Sets:**  \n",
        "Sets unikal elementlərdən ibarət ardıcıllıqlardır.\n",
        "    "
      ]
    },
    {
      "cell_type": "code",
      "execution_count": null,
      "id": "fe96ff8a",
      "metadata": {
        "id": "fe96ff8a"
      },
      "outputs": [],
      "source": [
        "\n",
        "# Sets\n",
        "unique = {1, 2, 3, 3}\n",
        "print(unique)\n",
        ""
      ]
    },
    {
      "cell_type": "markdown",
      "id": "014d9839",
      "metadata": {
        "id": "014d9839"
      },
      "source": [
        "\n",
        "**Set Əməliyyatları:**  \n",
        "- **Birləşdirmə (Union):** İki set-in bütün elementlərini birləşdirir.  \n",
        "- **Kəsişmə (Intersection):** İki set-də ortaq elementləri tapır.\n",
        "    "
      ]
    },
    {
      "cell_type": "code",
      "execution_count": null,
      "id": "bcdac806",
      "metadata": {
        "id": "bcdac806"
      },
      "outputs": [],
      "source": [
        "\n",
        "# Set əməliyyatları\n",
        "set1 = {1, 2}\n",
        "set2 = {2, 3}\n",
        "print(set1 | set2)  # Union\n",
        "print(set1 & set2)  # Intersection\n",
        ""
      ]
    },
    {
      "cell_type": "markdown",
      "id": "e68ab1c4",
      "metadata": {
        "id": "e68ab1c4"
      },
      "source": [
        "\n",
        "### Sessiya 4: Dictionaries və Dictionary Comprehension\n",
        "\n",
        "#### İzah:\n",
        "**Dictionaries:**  \n",
        "Dictionaries açar-dəyər cütlərini saxlamaq üçün istifadə olunur.\n",
        "    "
      ]
    },
    {
      "cell_type": "code",
      "execution_count": null,
      "id": "cd71012d",
      "metadata": {
        "id": "cd71012d"
      },
      "outputs": [],
      "source": [
        "\n",
        "# Dictionaries\n",
        "student = {\"name\": \"Alice\", \"age\": 20}\n",
        "print(student[\"name\"])  # Output: Alice\n",
        ""
      ]
    },
    {
      "cell_type": "markdown",
      "id": "711b47b9",
      "metadata": {
        "id": "711b47b9"
      },
      "source": [
        "\n",
        "**Dictionary Metodları:**  \n",
        "- `keys()` və `values()` metodları müvafiq açarları və dəyərləri əldə edir.  \n",
        "- `get()` metodu təhlükəsiz şəkildə dəyər əldə etmək üçün istifadə olunur.\n",
        "    "
      ]
    },
    {
      "cell_type": "code",
      "execution_count": null,
      "id": "6591ce89",
      "metadata": {
        "id": "6591ce89"
      },
      "outputs": [],
      "source": [
        "\n",
        "# Dictionary metodları\n",
        "print(student.keys())\n",
        "print(student.values())\n",
        ""
      ]
    },
    {
      "cell_type": "markdown",
      "id": "76fe4b27",
      "metadata": {
        "id": "76fe4b27"
      },
      "source": [
        "\n",
        "**Nested Dictionaries:**  \n",
        "Bir dictionary-nin daxilində başqa bir dictionary yerləşdirilə bilər.\n",
        "    "
      ]
    },
    {
      "cell_type": "code",
      "execution_count": null,
      "id": "f92b93dc",
      "metadata": {
        "id": "f92b93dc"
      },
      "outputs": [],
      "source": [
        "\n",
        "# Nested dictionaries\n",
        "data = {\"student\": {\"name\": \"Alice\", \"age\": 20}}\n",
        "print(data[\"student\"][\"name\"])\n",
        ""
      ]
    },
    {
      "cell_type": "markdown",
      "id": "cc543934",
      "metadata": {
        "id": "cc543934"
      },
      "source": [
        "\n",
        "**Dictionary Comprehension:**  \n",
        "- Sadə Sintaksis: Yeni bir dictionary yaratmaq üçün istifadə olunur.  \n",
        "- Şərtli Comprehension: Şərtlərə əsasən açar-dəyər cütlərini təyin edir.\n",
        "    "
      ]
    },
    {
      "cell_type": "code",
      "execution_count": null,
      "id": "1f4603ea",
      "metadata": {
        "id": "1f4603ea"
      },
      "outputs": [],
      "source": [
        "\n",
        "# Dictionary comprehension\n",
        "squares = {x: x**2 for x in range(5)}\n",
        "print(squares)\n",
        "\n",
        "evens = {x: x**2 for x in range(10) if x % 2 == 0}\n",
        "print(evens)\n",
        ""
      ]
    }
  ],
  "metadata": {
    "colab": {
      "provenance": []
    },
    "language_info": {
      "name": "python"
    },
    "kernelspec": {
      "name": "python3",
      "display_name": "Python 3"
    }
  },
  "nbformat": 4,
  "nbformat_minor": 5
}